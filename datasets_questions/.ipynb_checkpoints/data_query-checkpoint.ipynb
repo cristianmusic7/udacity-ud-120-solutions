{
 "cells": [
  {
   "cell_type": "code",
   "execution_count": 60,
   "metadata": {
    "collapsed": false,
    "scrolled": true
   },
   "outputs": [
    {
     "name": "stdout",
     "output_type": "stream",
     "text": [
      "8682716\n",
      "2424083\n",
      "103559793\n",
      "95\n",
      "111\n",
      "0.8561643835616438\n"
     ]
    }
   ],
   "source": [
    "import pickle\n",
    "import pandas as pd\n",
    "\n",
    "enron_data = pickle.load(open(\"../final_project/final_project_dataset.pkl\", \"rb\"))\n",
    "df = pd.DataFrame(enron_data)\n",
    "#for data in enron_data.values():\n",
    " #   print(data['poi'])\n",
    "poi = [data for data in enron_data.values() if data['poi']== 1 ]\n",
    "nansal = [data for data in enron_data.values() if data['salary']== 'NaN' ]\n",
    "nanemail = [data for data in enron_data.values() if data['email_address']== 'NaN' ]\n",
    "nantp = [data for data in enron_data.values() if data['total_payments']== 'NaN' ]\n",
    "#print(enron_data['PRENTICE JAMES']['total_stock_value'])\n",
    "#print(enron_data['COLWELL WESLEY']['from_this_person_to_poi'])\n",
    "print(enron_data['SKILLING JEFFREY K']['total_payments']) \n",
    "print(enron_data['FASTOW ANDREW S']['total_payments'])\n",
    "print(enron_data['LAY KENNETH L']['total_payments'])\n",
    "print(len(enron_data)-len(nansal))\n",
    "print(len(enron_data)-len(nanemail))\n",
    "print((len(enron_data)-len(nantp))/(len(enron_data)))"
   ]
  }
 ],
 "metadata": {
  "kernelspec": {
   "display_name": "Python 3",
   "language": "python",
   "name": "python3"
  }
 },
 "nbformat": 4,
 "nbformat_minor": 2
}
