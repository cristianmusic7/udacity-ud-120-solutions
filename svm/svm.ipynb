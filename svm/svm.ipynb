{
 "cells": [
  {
   "cell_type": "code",
   "execution_count": 17,
   "metadata": {
    "collapsed": false
   },
   "outputs": [
    {
     "name": "stdout",
     "output_type": "stream",
     "text": [
      "no. of Chris training emails: 7936\n",
      "no. of Sara training emails: 7884\n",
      "158.2\n",
      "158.2\n",
      "training time: 0.299 s\n",
      "prediction time: 2.399 s\n",
      "0.892491467577\n",
      "1758\n",
      "(array([0, 1]), array([ 740, 1018], dtype=int64))\n",
      "0.9182958340544896\n"
     ]
    }
   ],
   "source": [
    "import sys\n",
    "import numpy as np\n",
    "import math\n",
    "from time import time\n",
    "sys.path.append(\"../tools/\")\n",
    "from email_preprocess import preprocess\n",
    "features_train, features_test, labels_train, labels_test = preprocess()\n",
    "\n",
    "print(len(features_train)/100)\n",
    "print(len(labels_train)/100)\n",
    "features_train = features_train[:round(len(features_train)/100)] \n",
    "labels_train = labels_train[:round(len(labels_train)/100)] \n",
    "\n",
    "from sklearn.svm import SVC\n",
    "clf = SVC(C=10000.0, kernel=\"rbf\")\n",
    "t0 = time()\n",
    "clf.fit(features_train, labels_train) \n",
    "print (\"training time:\", round(time()-t0, 3), \"s\")\n",
    "t1 = time()\n",
    "pred = clf.predict(features_test)\n",
    "print (\"prediction time:\", round(time()-t0, 3), \"s\")\n",
    "from sklearn.metrics import accuracy_score\n",
    "acc = accuracy_score(pred, labels_test)\n",
    "print(acc)\n",
    "print(len(pred))\n",
    "print(np.unique(pred, return_counts=True))\n",
    "print(-(2/3)*math.log((2/3),2) - (1/3)*math.log((1/3),2))"
   ]
  }
 ],
 "metadata": {
  "kernelspec": {
   "display_name": "Python 3",
   "language": "python",
   "name": "python3"
  },
  "language_info": {
   "codemirror_mode": {
    "name": "ipython",
    "version": 3
   },
   "file_extension": ".py",
   "mimetype": "text/x-python",
   "name": "python",
   "nbconvert_exporter": "python",
   "pygments_lexer": "ipython3",
   "version": "3.6.0"
  }
 },
 "nbformat": 4,
 "nbformat_minor": 2
}
